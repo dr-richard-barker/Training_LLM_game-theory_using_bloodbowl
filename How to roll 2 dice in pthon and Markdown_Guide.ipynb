{
  "cells": [
    {
      "cell_type": "markdown",
      "metadata": {
        "id": "view-in-github",
        "colab_type": "text"
      },
      "source": [
        "<a href=\"https://colab.research.google.com/github/dr-richard-barker/Training_LLM_game-theory_using_bloodbowl/blob/main/How%20to%20roll%202%20dice%20in%20pthon%20and%20Markdown_Guide.ipynb\" target=\"_parent\"><img src=\"https://colab.research.google.com/assets/colab-badge.svg\" alt=\"Open In Colab\"/></a>"
      ]
    },
    {
      "cell_type": "markdown",
      "metadata": {
        "id": "70pYkR9LiOV0"
      },
      "source": [
        "## What is Markdown?\n",
        "\n",
        "Colab has two types of cells: text and code. Text cells are formatted using a simple markup language called Markdown.\n",
        "\n",
        "\n",
        "To see the Markdown source, double-click a text cell, showing both the Markdown source and the rendered version. Above the Markdown source there is a toolbar to assist editing."
      ]
    },
    {
      "cell_type": "code",
      "source": [
        "import random\n",
        "from PIL import Image, ImageDraw\n",
        "import matplotlib.pyplot as plt\n",
        "from ipywidgets import Button\n",
        "from IPython.display import display, clear_output\n",
        "\n",
        "# Function to simulate dice roll\n",
        "def roll_dice():\n",
        "    return random.randint(1, 6), random.randint(1, 6)\n",
        "\n",
        "# Function to display dice images\n",
        "def show_dice(dice_values):\n",
        "    # Load dice images\n",
        "    dice_images = [Image.open(f'dice-{i}.png') for i in range(1, 7)]\n",
        "\n",
        "    # Create a new image combining the two dice\n",
        "    combined_image = Image.new('RGB', (dice_images[0].width * 2, dice_images[0].height))\n",
        "    combined_image.paste(dice_images[dice_values[0] - 1], (0, 0))\n",
        "    combined_image.paste(dice_images[dice_values[1] - 1], (dice_images[0].width, 0))\n",
        "\n",
        "    # Display the combined image\n",
        "    plt.imshow(combined_image)\n",
        "    plt.axis('off')  # Hide axes\n",
        "    plt.show()\n",
        "\n",
        "# Function to handle button click for rerolling the dice\n",
        "def on_button_clicked(b):\n",
        "    dice_values = roll_dice()\n",
        "    clear_output(wait=True)\n",
        "    show_dice(dice_values)\n",
        "\n",
        "# Initial roll\n",
        "dice_values = roll_dice()\n",
        "\n",
        "# Display initial dice\n",
        "show_dice(dice_values)\n",
        "\n",
        "# Create a button for rerolling the dice\n",
        "button = Button(description=\"Reroll Dice\")\n",
        "button.on_click(on_button_clicked)\n",
        "display(button)"
      ],
      "metadata": {
        "id": "dwFlgSFhjLDt"
      },
      "execution_count": null,
      "outputs": []
    },
    {
      "cell_type": "markdown",
      "metadata": {
        "id": "w86a4I4fmkvD"
      },
      "source": [
        "## Differences between Colab Markdown and other Markdown dialects\n",
        "\n",
        "Colab uses [marked.js](https://github.com/chjj/marked) and so is similar but not quite identical to the Markdown used by Jupyter and Github.\n",
        "\n",
        "Colab supports (MathJax) $\\LaTeX$ equations like Jupyter, but does not allow HTML tags in the Markdown. Colab does not support some GitHub additions like emojis and to-do checkboxes.\n",
        "\n",
        "If HTML must be included in a Colab notebook, see the [%%html magic](/notebooks/basic_features_overview.ipynb#scrollTo=qM4myQGfQboQ)."
      ]
    },
    {
      "cell_type": "markdown",
      "metadata": {
        "id": "uSx6SUb1Komv"
      },
      "source": [
        "## Useful references"
      ]
    },
    {
      "cell_type": "markdown",
      "metadata": {
        "id": "5Y3CStVkLxqt"
      },
      "source": [
        "* [Github Markdown basics](https://help.github.com/articles/markdown-basics/)\n",
        "* [Github flavored Markdown](https://help.github.com/articles/github-flavored-markdown/)\n",
        "* [Original Markdown spec: Syntax](http://daringfireball.net/projects/markdown/syntax)\n",
        "* [Original Markdown spec: Basics](http://daringfireball.net/projects/markdown/basics)\n",
        "* [marked.js library used by Colab](https://github.com/chjj/marked)\n",
        "* [LaTex mathematics for equations](https://en.wikibooks.org/wiki/LaTeX/Mathematics)"
      ]
    }
  ],
  "metadata": {
    "colab": {
      "name": "Markdown Guide",
      "provenance": [],
      "include_colab_link": true
    },
    "kernelspec": {
      "display_name": "Python 3",
      "name": "python3"
    }
  },
  "nbformat": 4,
  "nbformat_minor": 0
}