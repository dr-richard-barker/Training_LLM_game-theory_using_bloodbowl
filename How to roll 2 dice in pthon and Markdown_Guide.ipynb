{
  "cells": [
    {
      "cell_type": "markdown",
      "metadata": {
        "id": "view-in-github",
        "colab_type": "text"
      },
      "source": [
        "<a href=\"https://colab.research.google.com/github/dr-richard-barker/Training_LLM_game-theory_using_bloodbowl/blob/main/How%20to%20roll%202%20dice%20in%20pthon%20and%20Markdown_Guide.ipynb\" target=\"_parent\"><img src=\"https://colab.research.google.com/assets/colab-badge.svg\" alt=\"Open In Colab\"/></a>"
      ]
    },
    {
      "cell_type": "markdown",
      "metadata": {
        "id": "70pYkR9LiOV0"
      },
      "source": [
        "## Rolling dice is used to determine probablistic actions during a game of blood bowl?\n",
        "\n",
        "Colab cells of code that can allow us to role virtual dice."
      ]
    },
    {
      "cell_type": "code",
      "source": [
        "import random\n",
        "from PIL import Image, ImageDraw\n",
        "import matplotlib.pyplot as plt\n",
        "from ipywidgets import Button\n",
        "from IPython.display import display, clear_output\n",
        "\n",
        "# Function to simulate dice roll\n",
        "def roll_dice():\n",
        "    return random.randint(1, 6), random.randint(1, 6)\n",
        "\n",
        "# Function to display dice images\n",
        "def show_dice(dice_values):\n",
        "    # Load dice images\n",
        "    dice_images = [Image.open(f'dice-{i}.png') for i in range(1, 7)]\n",
        "\n",
        "    # Create a new image combining the two dice\n",
        "    combined_image = Image.new('RGB', (dice_images[0].width * 2, dice_images[0].height))\n",
        "    combined_image.paste(dice_images[dice_values[0] - 1], (0, 0))\n",
        "    combined_image.paste(dice_images[dice_values[1] - 1], (dice_images[0].width, 0))\n",
        "\n",
        "    # Display the combined image\n",
        "    plt.imshow(combined_image)\n",
        "    plt.axis('off')  # Hide axes\n",
        "    plt.show()\n",
        "\n",
        "# Function to handle button click for rerolling the dice\n",
        "def on_button_clicked(b):\n",
        "    dice_values = roll_dice()\n",
        "    clear_output(wait=True)\n",
        "    show_dice(dice_values)\n",
        "\n",
        "# Initial roll\n",
        "dice_values = roll_dice()\n",
        "\n",
        "# Display initial dice\n",
        "show_dice(dice_values)\n",
        "\n",
        "# Create a button for rerolling the dice\n",
        "button = Button(description=\"Reroll Dice\")\n",
        "button.on_click(on_button_clicked)\n",
        "display(button)"
      ],
      "metadata": {
        "id": "dwFlgSFhjLDt"
      },
      "execution_count": null,
      "outputs": []
    },
    {
      "cell_type": "markdown",
      "metadata": {
        "id": "w86a4I4fmkvD"
      },
      "source": [
        "## This is still work in progress\n",
        "\n"
      ]
    },
    {
      "cell_type": "markdown",
      "metadata": {
        "id": "uSx6SUb1Komv"
      },
      "source": [
        "## Useful references"
      ]
    },
    {
      "cell_type": "markdown",
      "metadata": {
        "id": "5Y3CStVkLxqt"
      },
      "source": [
        "* [Github Markdown basics](https://help.github.com/articles/markdown-basics/)\n",
        "* [Github flavored Markdown](https://help.github.com/articles/github-flavored-markdown/)\n",
        "* [Original Markdown spec: Syntax](http://daringfireball.net/projects/markdown/syntax)\n",
        "* [Original Markdown spec: Basics](http://daringfireball.net/projects/markdown/basics)\n",
        "* [marked.js library used by Colab](https://github.com/chjj/marked)\n",
        "* [LaTex mathematics for equations](https://en.wikibooks.org/wiki/LaTeX/Mathematics)"
      ]
    }
  ],
  "metadata": {
    "colab": {
      "name": "Markdown Guide",
      "provenance": [],
      "include_colab_link": true
    },
    "kernelspec": {
      "display_name": "Python 3",
      "name": "python3"
    }
  },
  "nbformat": 4,
  "nbformat_minor": 0
}